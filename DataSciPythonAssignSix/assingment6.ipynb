{
 "cells": [
  {
   "cell_type": "code",
   "execution_count": 348,
   "metadata": {},
   "outputs": [
    {
     "name": "stdout",
     "output_type": "stream",
     "text": [
      "Requirement already satisfied: pandas in d:\\projects\\bu-cs677-datasciencepy\\datascipythonassignsix\\env\\lib\\site-packages (1.5.2)\n",
      "Requirement already satisfied: pytz>=2020.1 in d:\\projects\\bu-cs677-datasciencepy\\datascipythonassignsix\\env\\lib\\site-packages (from pandas) (2022.6)\n",
      "Requirement already satisfied: numpy>=1.21.0 in d:\\projects\\bu-cs677-datasciencepy\\datascipythonassignsix\\env\\lib\\site-packages (from pandas) (1.23.5)\n",
      "Requirement already satisfied: python-dateutil>=2.8.1 in d:\\projects\\bu-cs677-datasciencepy\\datascipythonassignsix\\env\\lib\\site-packages (from pandas) (2.8.2)\n",
      "Requirement already satisfied: six>=1.5 in d:\\projects\\bu-cs677-datasciencepy\\datascipythonassignsix\\env\\lib\\site-packages (from python-dateutil>=2.8.1->pandas) (1.16.0)\n"
     ]
    },
    {
     "name": "stderr",
     "output_type": "stream",
     "text": [
      "\n",
      "[notice] A new release of pip available: 22.2.2 -> 22.3.1\n",
      "[notice] To update, run: python.exe -m pip install --upgrade pip\n"
     ]
    },
    {
     "name": "stdout",
     "output_type": "stream",
     "text": [
      "Requirement already satisfied: matplotlib in d:\\projects\\bu-cs677-datasciencepy\\datascipythonassignsix\\env\\lib\\site-packages (3.6.2)\n",
      "Requirement already satisfied: fonttools>=4.22.0 in d:\\projects\\bu-cs677-datasciencepy\\datascipythonassignsix\\env\\lib\\site-packages (from matplotlib) (4.38.0)\n",
      "Requirement already satisfied: pyparsing>=2.2.1 in d:\\projects\\bu-cs677-datasciencepy\\datascipythonassignsix\\env\\lib\\site-packages (from matplotlib) (3.0.9)\n",
      "Requirement already satisfied: contourpy>=1.0.1 in d:\\projects\\bu-cs677-datasciencepy\\datascipythonassignsix\\env\\lib\\site-packages (from matplotlib) (1.0.6)\n",
      "Requirement already satisfied: pillow>=6.2.0 in d:\\projects\\bu-cs677-datasciencepy\\datascipythonassignsix\\env\\lib\\site-packages (from matplotlib) (9.3.0)\n",
      "Requirement already satisfied: python-dateutil>=2.7 in d:\\projects\\bu-cs677-datasciencepy\\datascipythonassignsix\\env\\lib\\site-packages (from matplotlib) (2.8.2)\n",
      "Requirement already satisfied: numpy>=1.19 in d:\\projects\\bu-cs677-datasciencepy\\datascipythonassignsix\\env\\lib\\site-packages (from matplotlib) (1.23.5)\n",
      "Requirement already satisfied: kiwisolver>=1.0.1 in d:\\projects\\bu-cs677-datasciencepy\\datascipythonassignsix\\env\\lib\\site-packages (from matplotlib) (1.4.4)\n",
      "Requirement already satisfied: packaging>=20.0 in d:\\projects\\bu-cs677-datasciencepy\\datascipythonassignsix\\env\\lib\\site-packages (from matplotlib) (21.3)\n",
      "Requirement already satisfied: cycler>=0.10 in d:\\projects\\bu-cs677-datasciencepy\\datascipythonassignsix\\env\\lib\\site-packages (from matplotlib) (0.11.0)\n",
      "Requirement already satisfied: six>=1.5 in d:\\projects\\bu-cs677-datasciencepy\\datascipythonassignsix\\env\\lib\\site-packages (from python-dateutil>=2.7->matplotlib) (1.16.0)\n"
     ]
    },
    {
     "name": "stderr",
     "output_type": "stream",
     "text": [
      "\n",
      "[notice] A new release of pip available: 22.2.2 -> 22.3.1\n",
      "[notice] To update, run: python.exe -m pip install --upgrade pip\n"
     ]
    },
    {
     "name": "stdout",
     "output_type": "stream",
     "text": [
      "Requirement already satisfied: numpy in d:\\projects\\bu-cs677-datasciencepy\\datascipythonassignsix\\env\\lib\\site-packages (1.23.5)\n"
     ]
    },
    {
     "name": "stderr",
     "output_type": "stream",
     "text": [
      "\n",
      "[notice] A new release of pip available: 22.2.2 -> 22.3.1\n",
      "[notice] To update, run: python.exe -m pip install --upgrade pip\n"
     ]
    },
    {
     "name": "stdout",
     "output_type": "stream",
     "text": [
      "Requirement already satisfied: seaborn in d:\\projects\\bu-cs677-datasciencepy\\datascipythonassignsix\\env\\lib\\site-packages (0.12.1)\n",
      "Requirement already satisfied: numpy>=1.17 in d:\\projects\\bu-cs677-datasciencepy\\datascipythonassignsix\\env\\lib\\site-packages (from seaborn) (1.23.5)\n",
      "Requirement already satisfied: pandas>=0.25 in d:\\projects\\bu-cs677-datasciencepy\\datascipythonassignsix\\env\\lib\\site-packages (from seaborn) (1.5.2)\n",
      "Requirement already satisfied: matplotlib!=3.6.1,>=3.1 in d:\\projects\\bu-cs677-datasciencepy\\datascipythonassignsix\\env\\lib\\site-packages (from seaborn) (3.6.2)\n",
      "Requirement already satisfied: cycler>=0.10 in d:\\projects\\bu-cs677-datasciencepy\\datascipythonassignsix\\env\\lib\\site-packages (from matplotlib!=3.6.1,>=3.1->seaborn) (0.11.0)\n",
      "Requirement already satisfied: contourpy>=1.0.1 in d:\\projects\\bu-cs677-datasciencepy\\datascipythonassignsix\\env\\lib\\site-packages (from matplotlib!=3.6.1,>=3.1->seaborn) (1.0.6)\n",
      "Requirement already satisfied: kiwisolver>=1.0.1 in d:\\projects\\bu-cs677-datasciencepy\\datascipythonassignsix\\env\\lib\\site-packages (from matplotlib!=3.6.1,>=3.1->seaborn) (1.4.4)\n",
      "Requirement already satisfied: pyparsing>=2.2.1 in d:\\projects\\bu-cs677-datasciencepy\\datascipythonassignsix\\env\\lib\\site-packages (from matplotlib!=3.6.1,>=3.1->seaborn) (3.0.9)\n",
      "Requirement already satisfied: python-dateutil>=2.7 in d:\\projects\\bu-cs677-datasciencepy\\datascipythonassignsix\\env\\lib\\site-packages (from matplotlib!=3.6.1,>=3.1->seaborn) (2.8.2)\n",
      "Requirement already satisfied: pillow>=6.2.0 in d:\\projects\\bu-cs677-datasciencepy\\datascipythonassignsix\\env\\lib\\site-packages (from matplotlib!=3.6.1,>=3.1->seaborn) (9.3.0)\n",
      "Requirement already satisfied: packaging>=20.0 in d:\\projects\\bu-cs677-datasciencepy\\datascipythonassignsix\\env\\lib\\site-packages (from matplotlib!=3.6.1,>=3.1->seaborn) (21.3)\n",
      "Requirement already satisfied: fonttools>=4.22.0 in d:\\projects\\bu-cs677-datasciencepy\\datascipythonassignsix\\env\\lib\\site-packages (from matplotlib!=3.6.1,>=3.1->seaborn) (4.38.0)\n",
      "Requirement already satisfied: pytz>=2020.1 in d:\\projects\\bu-cs677-datasciencepy\\datascipythonassignsix\\env\\lib\\site-packages (from pandas>=0.25->seaborn) (2022.6)\n",
      "Requirement already satisfied: six>=1.5 in d:\\projects\\bu-cs677-datasciencepy\\datascipythonassignsix\\env\\lib\\site-packages (from python-dateutil>=2.7->matplotlib!=3.6.1,>=3.1->seaborn) (1.16.0)\n"
     ]
    },
    {
     "name": "stderr",
     "output_type": "stream",
     "text": [
      "\n",
      "[notice] A new release of pip available: 22.2.2 -> 22.3.1\n",
      "[notice] To update, run: python.exe -m pip install --upgrade pip\n"
     ]
    },
    {
     "name": "stdout",
     "output_type": "stream",
     "text": [
      "Requirement already satisfied: scikit-learn in d:\\projects\\bu-cs677-datasciencepy\\datascipythonassignsix\\env\\lib\\site-packages (1.1.3)\n",
      "Requirement already satisfied: scipy>=1.3.2 in d:\\projects\\bu-cs677-datasciencepy\\datascipythonassignsix\\env\\lib\\site-packages (from scikit-learn) (1.9.3)\n",
      "Requirement already satisfied: threadpoolctl>=2.0.0 in d:\\projects\\bu-cs677-datasciencepy\\datascipythonassignsix\\env\\lib\\site-packages (from scikit-learn) (3.1.0)\n",
      "Requirement already satisfied: joblib>=1.0.0 in d:\\projects\\bu-cs677-datasciencepy\\datascipythonassignsix\\env\\lib\\site-packages (from scikit-learn) (1.2.0)\n",
      "Requirement already satisfied: numpy>=1.17.3 in d:\\projects\\bu-cs677-datasciencepy\\datascipythonassignsix\\env\\lib\\site-packages (from scikit-learn) (1.23.5)\n"
     ]
    },
    {
     "name": "stderr",
     "output_type": "stream",
     "text": [
      "\n",
      "[notice] A new release of pip available: 22.2.2 -> 22.3.1\n",
      "[notice] To update, run: python.exe -m pip install --upgrade pip\n"
     ]
    },
    {
     "name": "stdout",
     "output_type": "stream",
     "text": [
      "Requirement already satisfied: openpyxl in d:\\projects\\bu-cs677-datasciencepy\\datascipythonassignsix\\env\\lib\\site-packages (3.0.10)\n",
      "Requirement already satisfied: et-xmlfile in d:\\projects\\bu-cs677-datasciencepy\\datascipythonassignsix\\env\\lib\\site-packages (from openpyxl) (1.1.0)\n"
     ]
    },
    {
     "name": "stderr",
     "output_type": "stream",
     "text": [
      "\n",
      "[notice] A new release of pip available: 22.2.2 -> 22.3.1\n",
      "[notice] To update, run: python.exe -m pip install --upgrade pip\n"
     ]
    },
    {
     "name": "stdout",
     "output_type": "stream",
     "text": [
      "Requirement already satisfied: xlrd in d:\\projects\\bu-cs677-datasciencepy\\datascipythonassignsix\\env\\lib\\site-packages (2.0.1)\n"
     ]
    },
    {
     "name": "stderr",
     "output_type": "stream",
     "text": [
      "\n",
      "[notice] A new release of pip available: 22.2.2 -> 22.3.1\n",
      "[notice] To update, run: python.exe -m pip install --upgrade pip\n"
     ]
    },
    {
     "name": "stdout",
     "output_type": "stream",
     "text": [
      "Requirement already satisfied: pandas in d:\\projects\\bu-cs677-datasciencepy\\datascipythonassignsix\\env\\lib\\site-packages (1.5.2)\n",
      "Requirement already satisfied: numpy>=1.21.0 in d:\\projects\\bu-cs677-datasciencepy\\datascipythonassignsix\\env\\lib\\site-packages (from pandas) (1.23.5)\n",
      "Requirement already satisfied: pytz>=2020.1 in d:\\projects\\bu-cs677-datasciencepy\\datascipythonassignsix\\env\\lib\\site-packages (from pandas) (2022.6)\n",
      "Requirement already satisfied: python-dateutil>=2.8.1 in d:\\projects\\bu-cs677-datasciencepy\\datascipythonassignsix\\env\\lib\\site-packages (from pandas) (2.8.2)\n",
      "Requirement already satisfied: six>=1.5 in d:\\projects\\bu-cs677-datasciencepy\\datascipythonassignsix\\env\\lib\\site-packages (from python-dateutil>=2.8.1->pandas) (1.16.0)\n"
     ]
    },
    {
     "name": "stderr",
     "output_type": "stream",
     "text": [
      "\n",
      "[notice] A new release of pip available: 22.2.2 -> 22.3.1\n",
      "[notice] To update, run: python.exe -m pip install --upgrade pip\n"
     ]
    },
    {
     "name": "stdout",
     "output_type": "stream",
     "text": [
      "Requirement already satisfied: matplotlib in d:\\projects\\bu-cs677-datasciencepy\\datascipythonassignsix\\env\\lib\\site-packages (3.6.2)\n",
      "Requirement already satisfied: contourpy>=1.0.1 in d:\\projects\\bu-cs677-datasciencepy\\datascipythonassignsix\\env\\lib\\site-packages (from matplotlib) (1.0.6)\n",
      "Requirement already satisfied: cycler>=0.10 in d:\\projects\\bu-cs677-datasciencepy\\datascipythonassignsix\\env\\lib\\site-packages (from matplotlib) (0.11.0)\n",
      "Requirement already satisfied: fonttools>=4.22.0 in d:\\projects\\bu-cs677-datasciencepy\\datascipythonassignsix\\env\\lib\\site-packages (from matplotlib) (4.38.0)\n",
      "Requirement already satisfied: pillow>=6.2.0 in d:\\projects\\bu-cs677-datasciencepy\\datascipythonassignsix\\env\\lib\\site-packages (from matplotlib) (9.3.0)\n",
      "Requirement already satisfied: python-dateutil>=2.7 in d:\\projects\\bu-cs677-datasciencepy\\datascipythonassignsix\\env\\lib\\site-packages (from matplotlib) (2.8.2)\n",
      "Requirement already satisfied: numpy>=1.19 in d:\\projects\\bu-cs677-datasciencepy\\datascipythonassignsix\\env\\lib\\site-packages (from matplotlib) (1.23.5)\n",
      "Requirement already satisfied: packaging>=20.0 in d:\\projects\\bu-cs677-datasciencepy\\datascipythonassignsix\\env\\lib\\site-packages (from matplotlib) (21.3)\n",
      "Requirement already satisfied: pyparsing>=2.2.1 in d:\\projects\\bu-cs677-datasciencepy\\datascipythonassignsix\\env\\lib\\site-packages (from matplotlib) (3.0.9)\n",
      "Requirement already satisfied: kiwisolver>=1.0.1 in d:\\projects\\bu-cs677-datasciencepy\\datascipythonassignsix\\env\\lib\\site-packages (from matplotlib) (1.4.4)\n",
      "Requirement already satisfied: six>=1.5 in d:\\projects\\bu-cs677-datasciencepy\\datascipythonassignsix\\env\\lib\\site-packages (from python-dateutil>=2.7->matplotlib) (1.16.0)\n"
     ]
    },
    {
     "name": "stderr",
     "output_type": "stream",
     "text": [
      "\n",
      "[notice] A new release of pip available: 22.2.2 -> 22.3.1\n",
      "[notice] To update, run: python.exe -m pip install --upgrade pip\n"
     ]
    },
    {
     "name": "stdout",
     "output_type": "stream",
     "text": [
      "Requirement already satisfied: numpy in d:\\projects\\bu-cs677-datasciencepy\\datascipythonassignsix\\env\\lib\\site-packages (1.23.5)\n"
     ]
    },
    {
     "name": "stderr",
     "output_type": "stream",
     "text": [
      "\n",
      "[notice] A new release of pip available: 22.2.2 -> 22.3.1\n",
      "[notice] To update, run: python.exe -m pip install --upgrade pip\n"
     ]
    },
    {
     "name": "stdout",
     "output_type": "stream",
     "text": [
      "Requirement already satisfied: seaborn in d:\\projects\\bu-cs677-datasciencepy\\datascipythonassignsix\\env\\lib\\site-packages (0.12.1)\n",
      "Requirement already satisfied: pandas>=0.25 in d:\\projects\\bu-cs677-datasciencepy\\datascipythonassignsix\\env\\lib\\site-packages (from seaborn) (1.5.2)\n",
      "Requirement already satisfied: matplotlib!=3.6.1,>=3.1 in d:\\projects\\bu-cs677-datasciencepy\\datascipythonassignsix\\env\\lib\\site-packages (from seaborn) (3.6.2)\n",
      "Requirement already satisfied: numpy>=1.17 in d:\\projects\\bu-cs677-datasciencepy\\datascipythonassignsix\\env\\lib\\site-packages (from seaborn) (1.23.5)\n",
      "Requirement already satisfied: fonttools>=4.22.0 in d:\\projects\\bu-cs677-datasciencepy\\datascipythonassignsix\\env\\lib\\site-packages (from matplotlib!=3.6.1,>=3.1->seaborn) (4.38.0)\n",
      "Requirement already satisfied: pillow>=6.2.0 in d:\\projects\\bu-cs677-datasciencepy\\datascipythonassignsix\\env\\lib\\site-packages (from matplotlib!=3.6.1,>=3.1->seaborn) (9.3.0)\n",
      "Requirement already satisfied: packaging>=20.0 in d:\\projects\\bu-cs677-datasciencepy\\datascipythonassignsix\\env\\lib\\site-packages (from matplotlib!=3.6.1,>=3.1->seaborn) (21.3)\n",
      "Requirement already satisfied: cycler>=0.10 in d:\\projects\\bu-cs677-datasciencepy\\datascipythonassignsix\\env\\lib\\site-packages (from matplotlib!=3.6.1,>=3.1->seaborn) (0.11.0)\n",
      "Requirement already satisfied: contourpy>=1.0.1 in d:\\projects\\bu-cs677-datasciencepy\\datascipythonassignsix\\env\\lib\\site-packages (from matplotlib!=3.6.1,>=3.1->seaborn) (1.0.6)\n",
      "Requirement already satisfied: kiwisolver>=1.0.1 in d:\\projects\\bu-cs677-datasciencepy\\datascipythonassignsix\\env\\lib\\site-packages (from matplotlib!=3.6.1,>=3.1->seaborn) (1.4.4)\n",
      "Requirement already satisfied: python-dateutil>=2.7 in d:\\projects\\bu-cs677-datasciencepy\\datascipythonassignsix\\env\\lib\\site-packages (from matplotlib!=3.6.1,>=3.1->seaborn) (2.8.2)\n",
      "Requirement already satisfied: pyparsing>=2.2.1 in d:\\projects\\bu-cs677-datasciencepy\\datascipythonassignsix\\env\\lib\\site-packages (from matplotlib!=3.6.1,>=3.1->seaborn) (3.0.9)\n",
      "Requirement already satisfied: pytz>=2020.1 in d:\\projects\\bu-cs677-datasciencepy\\datascipythonassignsix\\env\\lib\\site-packages (from pandas>=0.25->seaborn) (2022.6)\n",
      "Requirement already satisfied: six>=1.5 in d:\\projects\\bu-cs677-datasciencepy\\datascipythonassignsix\\env\\lib\\site-packages (from python-dateutil>=2.7->matplotlib!=3.6.1,>=3.1->seaborn) (1.16.0)\n"
     ]
    },
    {
     "name": "stderr",
     "output_type": "stream",
     "text": [
      "\n",
      "[notice] A new release of pip available: 22.2.2 -> 22.3.1\n",
      "[notice] To update, run: python.exe -m pip install --upgrade pip\n"
     ]
    },
    {
     "name": "stdout",
     "output_type": "stream",
     "text": [
      "Requirement already satisfied: scikit-learn in d:\\projects\\bu-cs677-datasciencepy\\datascipythonassignsix\\env\\lib\\site-packages (1.1.3)\n",
      "Requirement already satisfied: joblib>=1.0.0 in d:\\projects\\bu-cs677-datasciencepy\\datascipythonassignsix\\env\\lib\\site-packages (from scikit-learn) (1.2.0)\n",
      "Requirement already satisfied: numpy>=1.17.3 in d:\\projects\\bu-cs677-datasciencepy\\datascipythonassignsix\\env\\lib\\site-packages (from scikit-learn) (1.23.5)\n",
      "Requirement already satisfied: threadpoolctl>=2.0.0 in d:\\projects\\bu-cs677-datasciencepy\\datascipythonassignsix\\env\\lib\\site-packages (from scikit-learn) (3.1.0)\n",
      "Requirement already satisfied: scipy>=1.3.2 in d:\\projects\\bu-cs677-datasciencepy\\datascipythonassignsix\\env\\lib\\site-packages (from scikit-learn) (1.9.3)\n"
     ]
    },
    {
     "name": "stderr",
     "output_type": "stream",
     "text": [
      "\n",
      "[notice] A new release of pip available: 22.2.2 -> 22.3.1\n",
      "[notice] To update, run: python.exe -m pip install --upgrade pip\n"
     ]
    },
    {
     "name": "stdout",
     "output_type": "stream",
     "text": [
      "Requirement already satisfied: openpyxl in d:\\projects\\bu-cs677-datasciencepy\\datascipythonassignsix\\env\\lib\\site-packages (3.0.10)\n",
      "Requirement already satisfied: et-xmlfile in d:\\projects\\bu-cs677-datasciencepy\\datascipythonassignsix\\env\\lib\\site-packages (from openpyxl) (1.1.0)\n"
     ]
    },
    {
     "name": "stderr",
     "output_type": "stream",
     "text": [
      "\n",
      "[notice] A new release of pip available: 22.2.2 -> 22.3.1\n",
      "[notice] To update, run: python.exe -m pip install --upgrade pip\n"
     ]
    },
    {
     "name": "stdout",
     "output_type": "stream",
     "text": [
      "Requirement already satisfied: xlrd in d:\\projects\\bu-cs677-datasciencepy\\datascipythonassignsix\\env\\lib\\site-packages (2.0.1)\n"
     ]
    },
    {
     "name": "stderr",
     "output_type": "stream",
     "text": [
      "\n",
      "[notice] A new release of pip available: 22.2.2 -> 22.3.1\n",
      "[notice] To update, run: python.exe -m pip install --upgrade pip\n"
     ]
    }
   ],
   "source": [
    "! pip3 install pandas\n",
    "! pip3 install matplotlib\n",
    "! pip3 install numpy\n",
    "! pip3 install seaborn\n",
    "! pip3 install scikit-learn\n",
    "! pip3 install openpyxl\n",
    "! pip3 install xlrd\n",
    "! pip install pandas\n",
    "! pip install matplotlib\n",
    "! pip install numpy\n",
    "! pip install seaborn\n",
    "! pip install scikit-learn\n",
    "! pip install openpyxl\n",
    "! pip install xlrd"
   ]
  },
  {
   "cell_type": "code",
   "execution_count": 371,
   "metadata": {},
   "outputs": [],
   "source": [
    "import pandas as pd\n",
    "import numpy as np\n",
    "from openpyxl import load_workbook\n",
    "from sklearn.linear_model import LinearRegression\n",
    "from sklearn import metrics\n",
    "from sklearn import linear_model\n",
    "from sklearn.model_selection import train_test_split\n",
    "from sklearn.preprocessing import PolynomialFeatures\n",
    "from sklearn.pipeline import Pipeline\n",
    "from sklearn.svm import LinearSVC\n",
    "from sklearn.svm import SVC\n",
    "from sklearn.preprocessing import PolynomialFeatures, StandardScaler\n",
    "from sklearn.metrics import confusion_matrix\n",
    "from sklearn.naive_bayes import MultinomialNB\n",
    "from sklearn.tree import DecisionTreeClassifier\n",
    "from sklearn.ensemble import RandomForestClassifier\n",
    "from sklearn.cluster import KMeans\n",
    "import seaborn as sns\n",
    "import random\n",
    "from sklearn.pipeline import make_pipeline\n",
    "from sklearn.metrics import accuracy_score\n",
    "%matplotlib inline\n",
    "import matplotlib.pyplot as plt\n",
    "import warnings\n",
    "\n",
    "warnings.filterwarnings('ignore')"
   ]
  },
  {
   "cell_type": "code",
   "execution_count": 350,
   "metadata": {},
   "outputs": [
    {
     "data": {
      "text/html": [
       "<div>\n",
       "<style scoped>\n",
       "    .dataframe tbody tr th:only-of-type {\n",
       "        vertical-align: middle;\n",
       "    }\n",
       "\n",
       "    .dataframe tbody tr th {\n",
       "        vertical-align: top;\n",
       "    }\n",
       "\n",
       "    .dataframe thead th {\n",
       "        text-align: right;\n",
       "    }\n",
       "</style>\n",
       "<table border=\"1\" class=\"dataframe\">\n",
       "  <thead>\n",
       "    <tr style=\"text-align: right;\">\n",
       "      <th></th>\n",
       "      <th>f1</th>\n",
       "      <th>f2</th>\n",
       "      <th>f3</th>\n",
       "      <th>f4</th>\n",
       "      <th>f5</th>\n",
       "      <th>f6</th>\n",
       "      <th>f7</th>\n",
       "      <th>L</th>\n",
       "    </tr>\n",
       "  </thead>\n",
       "  <tbody>\n",
       "    <tr>\n",
       "      <th>0</th>\n",
       "      <td>15.26</td>\n",
       "      <td>14.84</td>\n",
       "      <td>0.8710</td>\n",
       "      <td>5.763</td>\n",
       "      <td>3.312</td>\n",
       "      <td>2.221</td>\n",
       "      <td>5.220</td>\n",
       "      <td>1</td>\n",
       "    </tr>\n",
       "    <tr>\n",
       "      <th>1</th>\n",
       "      <td>14.88</td>\n",
       "      <td>14.57</td>\n",
       "      <td>0.8811</td>\n",
       "      <td>5.554</td>\n",
       "      <td>3.333</td>\n",
       "      <td>1.018</td>\n",
       "      <td>4.956</td>\n",
       "      <td>1</td>\n",
       "    </tr>\n",
       "    <tr>\n",
       "      <th>2</th>\n",
       "      <td>14.29</td>\n",
       "      <td>14.09</td>\n",
       "      <td>0.9050</td>\n",
       "      <td>5.291</td>\n",
       "      <td>3.337</td>\n",
       "      <td>2.699</td>\n",
       "      <td>4.825</td>\n",
       "      <td>1</td>\n",
       "    </tr>\n",
       "    <tr>\n",
       "      <th>3</th>\n",
       "      <td>13.84</td>\n",
       "      <td>13.94</td>\n",
       "      <td>0.8955</td>\n",
       "      <td>5.324</td>\n",
       "      <td>3.379</td>\n",
       "      <td>2.259</td>\n",
       "      <td>4.805</td>\n",
       "      <td>1</td>\n",
       "    </tr>\n",
       "    <tr>\n",
       "      <th>4</th>\n",
       "      <td>16.14</td>\n",
       "      <td>14.99</td>\n",
       "      <td>0.9034</td>\n",
       "      <td>5.658</td>\n",
       "      <td>3.562</td>\n",
       "      <td>1.355</td>\n",
       "      <td>5.175</td>\n",
       "      <td>1</td>\n",
       "    </tr>\n",
       "    <tr>\n",
       "      <th>...</th>\n",
       "      <td>...</td>\n",
       "      <td>...</td>\n",
       "      <td>...</td>\n",
       "      <td>...</td>\n",
       "      <td>...</td>\n",
       "      <td>...</td>\n",
       "      <td>...</td>\n",
       "      <td>...</td>\n",
       "    </tr>\n",
       "    <tr>\n",
       "      <th>205</th>\n",
       "      <td>12.19</td>\n",
       "      <td>13.20</td>\n",
       "      <td>0.8783</td>\n",
       "      <td>5.137</td>\n",
       "      <td>2.981</td>\n",
       "      <td>3.631</td>\n",
       "      <td>4.870</td>\n",
       "      <td>3</td>\n",
       "    </tr>\n",
       "    <tr>\n",
       "      <th>206</th>\n",
       "      <td>11.23</td>\n",
       "      <td>12.88</td>\n",
       "      <td>0.8511</td>\n",
       "      <td>5.140</td>\n",
       "      <td>2.795</td>\n",
       "      <td>4.325</td>\n",
       "      <td>5.003</td>\n",
       "      <td>3</td>\n",
       "    </tr>\n",
       "    <tr>\n",
       "      <th>207</th>\n",
       "      <td>13.20</td>\n",
       "      <td>13.66</td>\n",
       "      <td>0.8883</td>\n",
       "      <td>5.236</td>\n",
       "      <td>3.232</td>\n",
       "      <td>8.315</td>\n",
       "      <td>5.056</td>\n",
       "      <td>3</td>\n",
       "    </tr>\n",
       "    <tr>\n",
       "      <th>208</th>\n",
       "      <td>11.84</td>\n",
       "      <td>13.21</td>\n",
       "      <td>0.8521</td>\n",
       "      <td>5.175</td>\n",
       "      <td>2.836</td>\n",
       "      <td>3.598</td>\n",
       "      <td>5.044</td>\n",
       "      <td>3</td>\n",
       "    </tr>\n",
       "    <tr>\n",
       "      <th>209</th>\n",
       "      <td>12.30</td>\n",
       "      <td>13.34</td>\n",
       "      <td>0.8684</td>\n",
       "      <td>5.243</td>\n",
       "      <td>2.974</td>\n",
       "      <td>5.637</td>\n",
       "      <td>5.063</td>\n",
       "      <td>3</td>\n",
       "    </tr>\n",
       "  </tbody>\n",
       "</table>\n",
       "<p>210 rows × 8 columns</p>\n",
       "</div>"
      ],
      "text/plain": [
       "        f1     f2      f3     f4     f5     f6     f7  L\n",
       "0    15.26  14.84  0.8710  5.763  3.312  2.221  5.220  1\n",
       "1    14.88  14.57  0.8811  5.554  3.333  1.018  4.956  1\n",
       "2    14.29  14.09  0.9050  5.291  3.337  2.699  4.825  1\n",
       "3    13.84  13.94  0.8955  5.324  3.379  2.259  4.805  1\n",
       "4    16.14  14.99  0.9034  5.658  3.562  1.355  5.175  1\n",
       "..     ...    ...     ...    ...    ...    ...    ... ..\n",
       "205  12.19  13.20  0.8783  5.137  2.981  3.631  4.870  3\n",
       "206  11.23  12.88  0.8511  5.140  2.795  4.325  5.003  3\n",
       "207  13.20  13.66  0.8883  5.236  3.232  8.315  5.056  3\n",
       "208  11.84  13.21  0.8521  5.175  2.836  3.598  5.044  3\n",
       "209  12.30  13.34  0.8684  5.243  2.974  5.637  5.063  3\n",
       "\n",
       "[210 rows x 8 columns]"
      ]
     },
     "execution_count": 350,
     "metadata": {},
     "output_type": "execute_result"
    }
   ],
   "source": [
    "data = pd.read_csv(\"seeds_dataset.csv\", sep='\\t', names=[\"f1\", \"f2\",\"f3\", \"f4\", \"f5\", \"f6\", \"f7\", \"L\"])\n",
    "data"
   ]
  },
  {
   "cell_type": "code",
   "execution_count": 351,
   "metadata": {},
   "outputs": [
    {
     "data": {
      "text/html": [
       "<div>\n",
       "<style scoped>\n",
       "    .dataframe tbody tr th:only-of-type {\n",
       "        vertical-align: middle;\n",
       "    }\n",
       "\n",
       "    .dataframe tbody tr th {\n",
       "        vertical-align: top;\n",
       "    }\n",
       "\n",
       "    .dataframe thead th {\n",
       "        text-align: right;\n",
       "    }\n",
       "</style>\n",
       "<table border=\"1\" class=\"dataframe\">\n",
       "  <thead>\n",
       "    <tr style=\"text-align: right;\">\n",
       "      <th></th>\n",
       "      <th>f1</th>\n",
       "      <th>f2</th>\n",
       "      <th>f3</th>\n",
       "      <th>f4</th>\n",
       "      <th>f5</th>\n",
       "      <th>f6</th>\n",
       "      <th>f7</th>\n",
       "      <th>L</th>\n",
       "    </tr>\n",
       "  </thead>\n",
       "  <tbody>\n",
       "    <tr>\n",
       "      <th>0</th>\n",
       "      <td>15.26</td>\n",
       "      <td>14.84</td>\n",
       "      <td>0.8710</td>\n",
       "      <td>5.763</td>\n",
       "      <td>3.312</td>\n",
       "      <td>2.221</td>\n",
       "      <td>5.220</td>\n",
       "      <td>1</td>\n",
       "    </tr>\n",
       "    <tr>\n",
       "      <th>1</th>\n",
       "      <td>14.88</td>\n",
       "      <td>14.57</td>\n",
       "      <td>0.8811</td>\n",
       "      <td>5.554</td>\n",
       "      <td>3.333</td>\n",
       "      <td>1.018</td>\n",
       "      <td>4.956</td>\n",
       "      <td>1</td>\n",
       "    </tr>\n",
       "    <tr>\n",
       "      <th>2</th>\n",
       "      <td>14.29</td>\n",
       "      <td>14.09</td>\n",
       "      <td>0.9050</td>\n",
       "      <td>5.291</td>\n",
       "      <td>3.337</td>\n",
       "      <td>2.699</td>\n",
       "      <td>4.825</td>\n",
       "      <td>1</td>\n",
       "    </tr>\n",
       "    <tr>\n",
       "      <th>3</th>\n",
       "      <td>13.84</td>\n",
       "      <td>13.94</td>\n",
       "      <td>0.8955</td>\n",
       "      <td>5.324</td>\n",
       "      <td>3.379</td>\n",
       "      <td>2.259</td>\n",
       "      <td>4.805</td>\n",
       "      <td>1</td>\n",
       "    </tr>\n",
       "    <tr>\n",
       "      <th>4</th>\n",
       "      <td>16.14</td>\n",
       "      <td>14.99</td>\n",
       "      <td>0.9034</td>\n",
       "      <td>5.658</td>\n",
       "      <td>3.562</td>\n",
       "      <td>1.355</td>\n",
       "      <td>5.175</td>\n",
       "      <td>1</td>\n",
       "    </tr>\n",
       "    <tr>\n",
       "      <th>...</th>\n",
       "      <td>...</td>\n",
       "      <td>...</td>\n",
       "      <td>...</td>\n",
       "      <td>...</td>\n",
       "      <td>...</td>\n",
       "      <td>...</td>\n",
       "      <td>...</td>\n",
       "      <td>...</td>\n",
       "    </tr>\n",
       "    <tr>\n",
       "      <th>205</th>\n",
       "      <td>12.19</td>\n",
       "      <td>13.20</td>\n",
       "      <td>0.8783</td>\n",
       "      <td>5.137</td>\n",
       "      <td>2.981</td>\n",
       "      <td>3.631</td>\n",
       "      <td>4.870</td>\n",
       "      <td>3</td>\n",
       "    </tr>\n",
       "    <tr>\n",
       "      <th>206</th>\n",
       "      <td>11.23</td>\n",
       "      <td>12.88</td>\n",
       "      <td>0.8511</td>\n",
       "      <td>5.140</td>\n",
       "      <td>2.795</td>\n",
       "      <td>4.325</td>\n",
       "      <td>5.003</td>\n",
       "      <td>3</td>\n",
       "    </tr>\n",
       "    <tr>\n",
       "      <th>207</th>\n",
       "      <td>13.20</td>\n",
       "      <td>13.66</td>\n",
       "      <td>0.8883</td>\n",
       "      <td>5.236</td>\n",
       "      <td>3.232</td>\n",
       "      <td>8.315</td>\n",
       "      <td>5.056</td>\n",
       "      <td>3</td>\n",
       "    </tr>\n",
       "    <tr>\n",
       "      <th>208</th>\n",
       "      <td>11.84</td>\n",
       "      <td>13.21</td>\n",
       "      <td>0.8521</td>\n",
       "      <td>5.175</td>\n",
       "      <td>2.836</td>\n",
       "      <td>3.598</td>\n",
       "      <td>5.044</td>\n",
       "      <td>3</td>\n",
       "    </tr>\n",
       "    <tr>\n",
       "      <th>209</th>\n",
       "      <td>12.30</td>\n",
       "      <td>13.34</td>\n",
       "      <td>0.8684</td>\n",
       "      <td>5.243</td>\n",
       "      <td>2.974</td>\n",
       "      <td>5.637</td>\n",
       "      <td>5.063</td>\n",
       "      <td>3</td>\n",
       "    </tr>\n",
       "  </tbody>\n",
       "</table>\n",
       "<p>140 rows × 8 columns</p>\n",
       "</div>"
      ],
      "text/plain": [
       "        f1     f2      f3     f4     f5     f6     f7  L\n",
       "0    15.26  14.84  0.8710  5.763  3.312  2.221  5.220  1\n",
       "1    14.88  14.57  0.8811  5.554  3.333  1.018  4.956  1\n",
       "2    14.29  14.09  0.9050  5.291  3.337  2.699  4.825  1\n",
       "3    13.84  13.94  0.8955  5.324  3.379  2.259  4.805  1\n",
       "4    16.14  14.99  0.9034  5.658  3.562  1.355  5.175  1\n",
       "..     ...    ...     ...    ...    ...    ...    ... ..\n",
       "205  12.19  13.20  0.8783  5.137  2.981  3.631  4.870  3\n",
       "206  11.23  12.88  0.8511  5.140  2.795  4.325  5.003  3\n",
       "207  13.20  13.66  0.8883  5.236  3.232  8.315  5.056  3\n",
       "208  11.84  13.21  0.8521  5.175  2.836  3.598  5.044  3\n",
       "209  12.30  13.34  0.8684  5.243  2.974  5.637  5.063  3\n",
       "\n",
       "[140 rows x 8 columns]"
      ]
     },
     "execution_count": 351,
     "metadata": {},
     "output_type": "execute_result"
    }
   ],
   "source": [
    "q1_data = data[(data[\"L\"]==1) | (data[\"L\"]==3)]\n",
    "q1_data"
   ]
  },
  {
   "cell_type": "code",
   "execution_count": 352,
   "metadata": {},
   "outputs": [],
   "source": [
    "X_train, X_test,y_train, y_test = train_test_split(q1_data.iloc[:,:-1],q1_data.iloc[:,-1] ,random_state=24, test_size=0.5, shuffle=True)"
   ]
  },
  {
   "cell_type": "code",
   "execution_count": 353,
   "metadata": {},
   "outputs": [],
   "source": [
    "df_data = {\"Model\":[\"linear SVM\", \"Gaussian SVM\", \"polynomial SVM\", \"Logistic Regression\"], \"TP\":[], \"FP\":[], \"TN\":[],\"FN\":[], \"accuracy\":[], \"TPR\": [], \"TNR\":[]}"
   ]
  },
  {
   "cell_type": "code",
   "execution_count": 354,
   "metadata": {},
   "outputs": [
    {
     "data": {
      "text/plain": [
       "0.9571428571428572"
      ]
     },
     "execution_count": 354,
     "metadata": {},
     "output_type": "execute_result"
    },
    {
     "data": {
      "image/png": "[encoded data removed]",
      "text/plain": [
       "<Figure size 640x480 with 2 Axes>"
      ]
     },
     "metadata": {},
     "output_type": "display_data"
    }
   ],
   "source": [
    "c = 10\n",
    "linear_svm = LinearSVC(C=c,loss=\"hinge\")\n",
    "scaler = StandardScaler()\n",
    "scaler.fit(X_train)\n",
    "X_scaled = scaler.transform(X_train)\n",
    "linear_svm.fit(X_scaled, y_train)\n",
    "y_pred = linear_svm.predict(scaler.transform(X_test))\n",
    "\n",
    "mat = confusion_matrix(y_test,y_pred)\n",
    "sns.heatmap(mat.T,square=True, annot=True, fmt = 'd', cbar=True, xticklabels=[\"1\", \"3\"], yticklabels=[\"1\", \"3\"])\n",
    "plt.xlabel('true label')\n",
    "plt.ylabel('predicted label')\n",
    "accuracy_score(y_test.to_numpy(), y_pred)"
   ]
  },
  {
   "cell_type": "code",
   "execution_count": 355,
   "metadata": {},
   "outputs": [
    {
     "name": "stdout",
     "output_type": "stream",
     "text": [
      "TP - 36 , FP - 3 , TN - 31 , FN -  0\n",
      "TPR - 1.0\n",
      "TNR - 0.9117647058823529\n"
     ]
    }
   ],
   "source": [
    "tp = np.count_nonzero((y_pred==3) & (y_test==3))\n",
    "fp = np.count_nonzero((y_pred==3) & (y_test==1))\n",
    "tn = np.count_nonzero((y_pred==1) & (y_test==1))\n",
    "fn = np.count_nonzero((y_pred==1) & (y_test==3))\n",
    "print(\"TP -\",tp,\", FP -\",fp,\", TN -\",tn,\", FN - \",fn)\n",
    "print(\"TPR -\",tp/(tp+fn))\n",
    "print(\"TNR -\",tn/(tn+fp))\n",
    "df_data[\"TP\"].append(tp)\n",
    "df_data[\"FP\"].append(fp)\n",
    "df_data[\"TN\"].append(tn)\n",
    "df_data[\"FN\"].append(fn)\n",
    "df_data[\"accuracy\"].append(accuracy_score(y_test.to_numpy(), y_pred))\n",
    "df_data[\"TPR\"].append(tp/(tp+fn))\n",
    "df_data[\"TNR\"].append(tn/(tn+fp))"
   ]
  },
  {
   "cell_type": "code",
   "execution_count": 356,
   "metadata": {},
   "outputs": [
    {
     "data": {
      "text/plain": [
       "0.4857142857142857"
      ]
     },
     "execution_count": 356,
     "metadata": {},
     "output_type": "execute_result"
    },
    {
     "data": {
      "image/png": "[encoded data removed]",
      "text/plain": [
       "<Figure size 640x480 with 2 Axes>"
      ]
     },
     "metadata": {},
     "output_type": "display_data"
    }
   ],
   "source": [
    "rbf_svm = Pipeline([('scaler',StandardScaler()),\n",
    "                     ('svm',SVC(kernel='rbf', gamma=5, C=0.001))])\n",
    "rbf_svm.fit(X_train,y_train)\n",
    "y_pred = rbf_svm.predict(X_test)\n",
    "\n",
    "mat = confusion_matrix(y_test,y_pred)\n",
    "sns.heatmap(mat.T,square=True, annot=True, fmt = 'd', cbar=True, xticklabels=[\"1\", \"3\"], yticklabels=[\"1\", \"3\"])\n",
    "plt.xlabel('true label')\n",
    "plt.ylabel('predicted label')\n",
    "accuracy_score(y_test.to_numpy(), y_pred)"
   ]
  },
  {
   "cell_type": "code",
   "execution_count": 357,
   "metadata": {},
   "outputs": [
    {
     "name": "stdout",
     "output_type": "stream",
     "text": [
      "TP - 0 , FP - 0 , TN - 34 , FN -  36\n",
      "TPR - 0.0\n",
      "TNR - 1.0\n"
     ]
    }
   ],
   "source": [
    "tp = np.count_nonzero((y_pred==3) & (y_test==3))\n",
    "fp = np.count_nonzero((y_pred==3) & (y_test==1))\n",
    "tn = np.count_nonzero((y_pred==1) & (y_test==1))\n",
    "fn = np.count_nonzero((y_pred==1) & (y_test==3))\n",
    "print(\"TP -\",tp,\", FP -\",fp,\", TN -\",tn,\", FN - \",fn)\n",
    "print(\"TPR -\",tp/(tp+fn))\n",
    "print(\"TNR -\",tn/(tn+fp))\n",
    "df_data[\"TP\"].append(tp)\n",
    "df_data[\"FP\"].append(fp)\n",
    "df_data[\"TN\"].append(tn)\n",
    "df_data[\"FN\"].append(fn)\n",
    "df_data[\"accuracy\"].append(accuracy_score(y_test.to_numpy(), y_pred))\n",
    "df_data[\"TPR\"].append(tp/(tp+fn))\n",
    "df_data[\"TNR\"].append(tn/(tn+fp))"
   ]
  },
  {
   "cell_type": "code",
   "execution_count": 358,
   "metadata": {},
   "outputs": [
    {
     "data": {
      "text/plain": [
       "0.9428571428571428"
      ]
     },
     "execution_count": 358,
     "metadata": {},
     "output_type": "execute_result"
    },
    {
     "data": {
      "image/png": "[encoded data removed]",
      "text/plain": [
       "<Figure size 640x480 with 2 Axes>"
      ]
     },
     "metadata": {},
     "output_type": "display_data"
    }
   ],
   "source": [
    "poly_svm = Pipeline([('poly_feat',PolynomialFeatures(degree=3)),\n",
    "                     ('scaler',StandardScaler()),\n",
    "                     ('svm',LinearSVC(C=8,loss='hinge'))])\n",
    "\n",
    "poly_svm.fit(X_train,y_train)\n",
    "y_pred = poly_svm.predict(X_test)\n",
    "\n",
    "mat = confusion_matrix(y_test,y_pred)\n",
    "sns.heatmap(mat.T,square=True, annot=True, fmt = 'd', cbar=True, xticklabels=[\"1\", \"3\"], yticklabels=[\"1\", \"3\"])\n",
    "plt.xlabel('true label')\n",
    "plt.ylabel('predicted label')\n",
    "accuracy_score(y_test.to_numpy(), y_pred)"
   ]
  },
  {
   "cell_type": "code",
   "execution_count": 359,
   "metadata": {},
   "outputs": [
    {
     "name": "stdout",
     "output_type": "stream",
     "text": [
      "TP - 35 , FP - 3 , TN - 31 , FN -  1\n",
      "TPR - 0.9722222222222222\n",
      "TNR - 0.9117647058823529\n"
     ]
    }
   ],
   "source": [
    "tp = np.count_nonzero((y_pred==3) & (y_test==3))\n",
    "fp = np.count_nonzero((y_pred==3) & (y_test==1))\n",
    "tn = np.count_nonzero((y_pred==1) & (y_test==1))\n",
    "fn = np.count_nonzero((y_pred==1) & (y_test==3))\n",
    "print(\"TP -\",tp,\", FP -\",fp,\", TN -\",tn,\", FN - \",fn)\n",
    "print(\"TPR -\",tp/(tp+fn))\n",
    "print(\"TNR -\",tn/(tn+fp))\n",
    "df_data[\"TP\"].append(tp)\n",
    "df_data[\"FP\"].append(fp)\n",
    "df_data[\"TN\"].append(tn)\n",
    "df_data[\"FN\"].append(fn)\n",
    "df_data[\"accuracy\"].append(accuracy_score(y_test.to_numpy(), y_pred))\n",
    "df_data[\"TPR\"].append(tp/(tp+fn))\n",
    "df_data[\"TNR\"].append(tn/(tn+fp))"
   ]
  },
  {
   "cell_type": "code",
   "execution_count": 360,
   "metadata": {},
   "outputs": [
    {
     "data": {
      "text/plain": [
       "0.9571428571428572"
      ]
     },
     "execution_count": 360,
     "metadata": {},
     "output_type": "execute_result"
    },
    {
     "data": {
      "image/png": "[encoded data removed]",
      "text/plain": [
       "<Figure size 640x480 with 2 Axes>"
      ]
     },
     "metadata": {},
     "output_type": "display_data"
    }
   ],
   "source": [
    "LRG = linear_model.LogisticRegression(\n",
    "    random_state = 0,solver = 'liblinear',multi_class = 'auto'\n",
    "    ).fit(X_train, y_train)\n",
    "y_pred = LRG.predict(X_test)\n",
    "\n",
    "mat = confusion_matrix(y_test,y_pred)\n",
    "sns.heatmap(mat.T,square=True, annot=True, fmt = 'd', cbar=True, xticklabels=[\"1\", \"3\"], yticklabels=[\"1\", \"3\"])\n",
    "plt.xlabel('true label')\n",
    "plt.ylabel('predicted label')\n",
    "accuracy_score(y_test.to_numpy(), y_pred)"
   ]
  },
  {
   "cell_type": "code",
   "execution_count": 361,
   "metadata": {},
   "outputs": [
    {
     "name": "stdout",
     "output_type": "stream",
     "text": [
      "TP - 36 , FP - 3 , TN - 31 , FN -  0\n",
      "TPR - 1.0\n",
      "TNR - 0.9117647058823529\n"
     ]
    }
   ],
   "source": [
    "tp = np.count_nonzero((y_pred==3) & (y_test==3))\n",
    "fp = np.count_nonzero((y_pred==3) & (y_test==1))\n",
    "tn = np.count_nonzero((y_pred==1) & (y_test==1))\n",
    "fn = np.count_nonzero((y_pred==1) & (y_test==3))\n",
    "print(\"TP -\",tp,\", FP -\",fp,\", TN -\",tn,\", FN - \",fn)\n",
    "print(\"TPR -\",tp/(tp+fn))\n",
    "print(\"TNR -\",tn/(tn+fp))\n",
    "df_data[\"TP\"].append(tp)\n",
    "df_data[\"FP\"].append(fp)\n",
    "df_data[\"TN\"].append(tn)\n",
    "df_data[\"FN\"].append(fn)\n",
    "df_data[\"accuracy\"].append(accuracy_score(y_test.to_numpy(), y_pred))\n",
    "df_data[\"TPR\"].append(tp/(tp+fn))\n",
    "df_data[\"TNR\"].append(tn/(tn+fp))"
   ]
  },
  {
   "cell_type": "code",
   "execution_count": 362,
   "metadata": {},
   "outputs": [
    {
     "data": {
      "text/html": [
       "<div>\n",
       "<style scoped>\n",
       "    .dataframe tbody tr th:only-of-type {\n",
       "        vertical-align: middle;\n",
       "    }\n",
       "\n",
       "    .dataframe tbody tr th {\n",
       "        vertical-align: top;\n",
       "    }\n",
       "\n",
       "    .dataframe thead th {\n",
       "        text-align: right;\n",
       "    }\n",
       "</style>\n",
       "<table border=\"1\" class=\"dataframe\">\n",
       "  <thead>\n",
       "    <tr style=\"text-align: right;\">\n",
       "      <th></th>\n",
       "      <th>Model</th>\n",
       "      <th>TP</th>\n",
       "      <th>FP</th>\n",
       "      <th>TN</th>\n",
       "      <th>FN</th>\n",
       "      <th>accuracy</th>\n",
       "      <th>TPR</th>\n",
       "      <th>TNR</th>\n",
       "    </tr>\n",
       "  </thead>\n",
       "  <tbody>\n",
       "    <tr>\n",
       "      <th></th>\n",
       "      <td>linear SVM</td>\n",
       "      <td>36</td>\n",
       "      <td>3</td>\n",
       "      <td>31</td>\n",
       "      <td>0</td>\n",
       "      <td>0.957143</td>\n",
       "      <td>1.000000</td>\n",
       "      <td>0.911765</td>\n",
       "    </tr>\n",
       "    <tr>\n",
       "      <th></th>\n",
       "      <td>Gaussian SVM</td>\n",
       "      <td>0</td>\n",
       "      <td>0</td>\n",
       "      <td>34</td>\n",
       "      <td>36</td>\n",
       "      <td>0.485714</td>\n",
       "      <td>0.000000</td>\n",
       "      <td>1.000000</td>\n",
       "    </tr>\n",
       "    <tr>\n",
       "      <th></th>\n",
       "      <td>polynomial SVM</td>\n",
       "      <td>35</td>\n",
       "      <td>3</td>\n",
       "      <td>31</td>\n",
       "      <td>1</td>\n",
       "      <td>0.942857</td>\n",
       "      <td>0.972222</td>\n",
       "      <td>0.911765</td>\n",
       "    </tr>\n",
       "    <tr>\n",
       "      <th></th>\n",
       "      <td>Logistic Regression</td>\n",
       "      <td>36</td>\n",
       "      <td>3</td>\n",
       "      <td>31</td>\n",
       "      <td>0</td>\n",
       "      <td>0.957143</td>\n",
       "      <td>1.000000</td>\n",
       "      <td>0.911765</td>\n",
       "    </tr>\n",
       "  </tbody>\n",
       "</table>\n",
       "</div>"
      ],
      "text/plain": [
       "                Model  TP  FP  TN  FN  accuracy       TPR       TNR\n",
       "           linear SVM  36   3  31   0  0.957143  1.000000  0.911765\n",
       "         Gaussian SVM   0   0  34  36  0.485714  0.000000  1.000000\n",
       "       polynomial SVM  35   3  31   1  0.942857  0.972222  0.911765\n",
       "  Logistic Regression  36   3  31   0  0.957143  1.000000  0.911765"
      ]
     },
     "execution_count": 362,
     "metadata": {},
     "output_type": "execute_result"
    }
   ],
   "source": [
    "pd.DataFrame(data=df_data, index=[\"\"]*len(df_data[\"Model\"]))"
   ]
  },
  {
   "cell_type": "code",
   "execution_count": 363,
   "metadata": {},
   "outputs": [],
   "source": [
    "def create_knee_plot(X, max_k):\n",
    "  sse = []\n",
    "  for i in range(1,max_k+1):\n",
    "    kmeans = KMeans(n_clusters=i)\n",
    "    kmeans.fit(X)\n",
    "    sse.append(kmeans.inertia_)\n",
    "  plt.plot(range(1,max_k+1), sse, '-b')\n",
    "  plt.xlabel('k')\n",
    "  plt.ylabel('Inertia (SSE)')\n",
    "  plt.title('Knee Plot')"
   ]
  },
  {
   "cell_type": "code",
   "execution_count": 364,
   "metadata": {},
   "outputs": [
    {
     "data": {
      "image/png": "[encoded data removed]",
      "text/plain": [
       "<Figure size 640x480 with 1 Axes>"
      ]
     },
     "metadata": {},
     "output_type": "display_data"
    }
   ],
   "source": [
    "create_knee_plot(data.iloc[:,:-1],10)"
   ]
  },
  {
   "cell_type": "code",
   "execution_count": 396,
   "metadata": {},
   "outputs": [
    {
     "data": {
      "text/plain": [
       "<matplotlib.collections.PathCollection at 0x204e71f40a0>"
      ]
     },
     "execution_count": 396,
     "metadata": {},
     "output_type": "execute_result"
    },
    {
     "data": {
      "image/png": "[encoded data removed]",
      "text/plain": [
       "<Figure size 640x480 with 1 Axes>"
      ]
     },
     "metadata": {},
     "output_type": "display_data"
    }
   ],
   "source": [
    "kmeans = KMeans(n_clusters=3)\n",
    "kmeans.fit(data.iloc[:,:-1])\n",
    "y_kmeans = kmeans.predict(data.iloc[:,:-1])\n",
    "\n",
    "x = random.randint(0,6)\n",
    "y = random.randint(0,6)\n",
    "while y==x:\n",
    "    y = random.randint(0,6)\n",
    "\n",
    "plt.scatter(data.iloc[:,x], data.iloc[:,y], c=y_kmeans, s=50, cmap='viridis')\n",
    "plt.xlabel(\"f\"+str(x+1))\n",
    "plt.ylabel(\"f\"+str(y+1))\n",
    "centers = kmeans.cluster_centers_\n",
    "plt.scatter(centers[:, x], centers[:, y], c='black', s=200, alpha=0.8)\n"
   ]
  },
  {
   "cell_type": "code",
   "execution_count": 397,
   "metadata": {},
   "outputs": [
    {
     "name": "stdout",
     "output_type": "stream",
     "text": [
      "{0: 2, 1: 3, 2: 1}\n"
     ]
    },
    {
     "data": {
      "text/plain": [
       "array([[18.72180328, 16.29737705,  0.88508689,  6.20893443,  3.72267213,\n",
       "         3.60359016,  6.06609836,  1.98360656],\n",
       "       [11.90906667, 13.25026667,  0.85154933,  5.22233333,  2.86509333,\n",
       "         4.72218667,  5.09304   ,  2.86666667],\n",
       "       [14.63202703, 14.45324324,  0.8790973 ,  5.56178378,  3.27489189,\n",
       "         2.74404324,  5.18493243,  1.13513514]])"
      ]
     },
     "execution_count": 397,
     "metadata": {},
     "output_type": "execute_result"
    }
   ],
   "source": [
    "# data[y_kmeans == 0].iloc[:,-1].mode()\n",
    "kmeans_label_map = {0:-1,1:-1,2:-1}\n",
    "# if data[y_kmeans == 0].iloc[:,-1].mode()[0] == 1 :\n",
    "\n",
    "# A_1 = data[y_kmeans == 0].iloc[:,-1].mode()\n",
    "# B_2 = data[y_kmeans == 1].iloc[:,-1].mode()\n",
    "# C_3 = data[y_kmeans == 2].iloc[:,-1].mode()\n",
    "kmeans_label_map[0] = data[y_kmeans == 0][\"L\"].mode()[0]\n",
    "kmeans_label_map[1] = data[y_kmeans == 1][\"L\"].mode()[0]\n",
    "kmeans_label_map[2] = data[y_kmeans == 2][\"L\"].mode()[0]\n",
    "print(kmeans_label_map)\n",
    "centers"
   ]
  },
  {
   "cell_type": "code",
   "execution_count": 367,
   "metadata": {},
   "outputs": [
    {
     "data": {
      "text/plain": [
       "0.3476190476190476"
      ]
     },
     "execution_count": 367,
     "metadata": {},
     "output_type": "execute_result"
    }
   ],
   "source": [
    "predict=[]\n",
    "for x in data.iterrows():\n",
    "    dist_array = [[0,np.sqrt(np.sum([(a-b)*(a-b) for a, b in zip(x[:-1], centers[0])]))],[1,np.sqrt(np.sum([(a-b)*(a-b) for a, b in zip(x[:-1], centers[1])]))],[2,np.sqrt(np.sum([(a-b)*(a-b) for a, b in zip(x[:-1], centers[2])]))]]\n",
    "    dist_array.sort(key=lambda x:x[1])\n",
    "    predict.append(kmeans_label_map[dist_array[0][0]])\n",
    "data[\"P\"] = predict\n",
    "data[data[\"P\"] == data[\"L\"]].shape[0]/data.shape[0]"
   ]
  },
  {
   "cell_type": "code",
   "execution_count": 368,
   "metadata": {},
   "outputs": [
    {
     "data": {
      "text/plain": [
       "0.02142857142857143"
      ]
     },
     "execution_count": 368,
     "metadata": {},
     "output_type": "execute_result"
    },
    {
     "data": {
      "image/png": "[encoded data removed]",
      "text/plain": [
       "<Figure size 640x480 with 2 Axes>"
      ]
     },
     "metadata": {},
     "output_type": "display_data"
    }
   ],
   "source": [
    "temp_data = data[data[\"L\"]!=2]\n",
    "y_test = temp_data[\"L\"].to_numpy()\n",
    "y_pred = temp_data[\"P\"].to_numpy()\n",
    "for i in range(len(y_pred)):\n",
    "    if y_pred[i] == 2:\n",
    "        if y_test[i] == 3:\n",
    "            y_pred[i] = 1\n",
    "        elif y_test[i] == 1:\n",
    "            y_pred[i] = 3\n",
    "\n",
    "mat = confusion_matrix(y_test,y_pred)\n",
    "sns.heatmap(mat.T,square=True, annot=True, fmt = 'd', cbar=True, xticklabels=[\"1\", \"3\"], yticklabels=[\"1\", \"3\"])\n",
    "plt.xlabel('true label')\n",
    "plt.ylabel('predicted label')\n",
    "accuracy_score(y_test, y_pred)"
   ]
  },
  {
   "cell_type": "code",
   "execution_count": 369,
   "metadata": {},
   "outputs": [
    {
     "name": "stdout",
     "output_type": "stream",
     "text": [
      "TP - 0 , FP - 67 , TN - 3 , FN -  70\n",
      "TPR - 0.0\n",
      "TNR - 0.04285714285714286\n"
     ]
    }
   ],
   "source": [
    "tp = np.count_nonzero((y_pred==3) & (y_test==3))\n",
    "fp = np.count_nonzero((y_pred==3) & (y_test==1))\n",
    "tn = np.count_nonzero((y_pred==1) & (y_test==1))\n",
    "fn = np.count_nonzero((y_pred==1) & (y_test==3))\n",
    "print(\"TP -\",tp,\", FP -\",fp,\", TN -\",tn,\", FN - \",fn)\n",
    "print(\"TPR -\",tp/(tp+fn))\n",
    "print(\"TNR -\",tn/(tn+fp))\n",
    "df_data[\"TP\"].append(tp)\n",
    "df_data[\"FP\"].append(fp)\n",
    "df_data[\"TN\"].append(tn)\n",
    "df_data[\"FN\"].append(fn)\n",
    "df_data[\"accuracy\"].append(accuracy_score(y_test, y_pred))\n",
    "df_data[\"TPR\"].append(tp/(tp+fn))\n",
    "df_data[\"TNR\"].append(tn/(tn+fp))\n",
    "df_data[\"Model\"].append(\"K Means\")"
   ]
  },
  {
   "cell_type": "code",
   "execution_count": 370,
   "metadata": {},
   "outputs": [
    {
     "data": {
      "text/html": [
       "<div>\n",
       "<style scoped>\n",
       "    .dataframe tbody tr th:only-of-type {\n",
       "        vertical-align: middle;\n",
       "    }\n",
       "\n",
       "    .dataframe tbody tr th {\n",
       "        vertical-align: top;\n",
       "    }\n",
       "\n",
       "    .dataframe thead th {\n",
       "        text-align: right;\n",
       "    }\n",
       "</style>\n",
       "<table border=\"1\" class=\"dataframe\">\n",
       "  <thead>\n",
       "    <tr style=\"text-align: right;\">\n",
       "      <th></th>\n",
       "      <th>Model</th>\n",
       "      <th>TP</th>\n",
       "      <th>FP</th>\n",
       "      <th>TN</th>\n",
       "      <th>FN</th>\n",
       "      <th>accuracy</th>\n",
       "      <th>TPR</th>\n",
       "      <th>TNR</th>\n",
       "    </tr>\n",
       "  </thead>\n",
       "  <tbody>\n",
       "    <tr>\n",
       "      <th></th>\n",
       "      <td>linear SVM</td>\n",
       "      <td>36</td>\n",
       "      <td>3</td>\n",
       "      <td>31</td>\n",
       "      <td>0</td>\n",
       "      <td>0.957143</td>\n",
       "      <td>1.000000</td>\n",
       "      <td>0.911765</td>\n",
       "    </tr>\n",
       "    <tr>\n",
       "      <th></th>\n",
       "      <td>Gaussian SVM</td>\n",
       "      <td>0</td>\n",
       "      <td>0</td>\n",
       "      <td>34</td>\n",
       "      <td>36</td>\n",
       "      <td>0.485714</td>\n",
       "      <td>0.000000</td>\n",
       "      <td>1.000000</td>\n",
       "    </tr>\n",
       "    <tr>\n",
       "      <th></th>\n",
       "      <td>polynomial SVM</td>\n",
       "      <td>35</td>\n",
       "      <td>3</td>\n",
       "      <td>31</td>\n",
       "      <td>1</td>\n",
       "      <td>0.942857</td>\n",
       "      <td>0.972222</td>\n",
       "      <td>0.911765</td>\n",
       "    </tr>\n",
       "    <tr>\n",
       "      <th></th>\n",
       "      <td>Logistic Regression</td>\n",
       "      <td>36</td>\n",
       "      <td>3</td>\n",
       "      <td>31</td>\n",
       "      <td>0</td>\n",
       "      <td>0.957143</td>\n",
       "      <td>1.000000</td>\n",
       "      <td>0.911765</td>\n",
       "    </tr>\n",
       "    <tr>\n",
       "      <th></th>\n",
       "      <td>K Means</td>\n",
       "      <td>0</td>\n",
       "      <td>67</td>\n",
       "      <td>3</td>\n",
       "      <td>70</td>\n",
       "      <td>0.021429</td>\n",
       "      <td>0.000000</td>\n",
       "      <td>0.042857</td>\n",
       "    </tr>\n",
       "  </tbody>\n",
       "</table>\n",
       "</div>"
      ],
      "text/plain": [
       "                Model  TP  FP  TN  FN  accuracy       TPR       TNR\n",
       "           linear SVM  36   3  31   0  0.957143  1.000000  0.911765\n",
       "         Gaussian SVM   0   0  34  36  0.485714  0.000000  1.000000\n",
       "       polynomial SVM  35   3  31   1  0.942857  0.972222  0.911765\n",
       "  Logistic Regression  36   3  31   0  0.957143  1.000000  0.911765\n",
       "              K Means   0  67   3  70  0.021429  0.000000  0.042857"
      ]
     },
     "execution_count": 370,
     "metadata": {},
     "output_type": "execute_result"
    }
   ],
   "source": [
    "pd.DataFrame(data=df_data, index=[\"\"]*len(df_data[\"Model\"]))"
   ]
  }
 ],
 "metadata": {
  "kernelspec": {
   "display_name": "Python 3.10.7 ('env': venv)",
   "language": "python",
   "name": "python3"
  },
  "language_info": {
   "codemirror_mode": {
    "name": "ipython",
    "version": 3
   },
   "file_extension": ".py",
   "mimetype": "text/x-python",
   "name": "python",
   "nbconvert_exporter": "python",
   "pygments_lexer": "ipython3",
   "version": "3.10.7"
  },
  "orig_nbformat": 4,
  "vscode": {
   "interpreter": {
    "hash": "9f37b76bd12cbfc7e147044bd7ed20b13fe8c8bf0088a07dbdc6a4574ff9290d"
   }
  }
 },
 "nbformat": 4,
 "nbformat_minor": 2
}
